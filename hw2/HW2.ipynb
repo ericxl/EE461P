{
 "cells": [
  {
   "cell_type": "markdown",
   "metadata": {
    "deletable": true,
    "editable": true
   },
   "source": [
    "\n",
    "# <p style=\"text-align: center;\">EE 461P: Data Science Principles</p>\n",
    "# <p style=\"text-align: center;\">Assignment 2</p>\n",
    "## <p style=\"text-align: center;\">Total points: 55</p>\n",
    "## <p style=\"text-align: center;\">Due: Tuesday, October 3rd, submitted via Canvas by 11:59 pm</p>\n",
    "\n",
    "## Scott Fennell sp363\n",
    "## Xiaoyong Liang xl5432\n",
    "\n",
    "Your homework should be written in a **Jupyter notebook**. You may work in groups of two if you wish. Only one student per team needs to submit the assignment on Canvas.  But be sure to include name and UTID for both students.  Homework groups will be created and managed through Canvas, so please do not arbitrarily change your homework group.  \n",
    "\n",
    "Also, please make sure your code runs and the graphics (and anything else) are displayed in your notebook before submitting. (%matplotlib inline)"
   ]
  },
  {
   "cell_type": "markdown",
   "metadata": {
    "deletable": true,
    "editable": true
   },
   "source": [
    "# Question 1: Ridge and Lasso Regression (15 points)\n",
    "Use the following codes to import the diabetes dataset."
   ]
  },
  {
   "cell_type": "code",
   "execution_count": 1,
   "metadata": {
    "collapsed": false,
    "deletable": true,
    "editable": true
   },
   "outputs": [],
   "source": [
    "from sklearn import datasets\n",
    "diabetes = datasets.load_diabetes()\n",
    "X = diabetes.data\n",
    "y = diabetes.target"
   ]
  },
  {
   "cell_type": "markdown",
   "metadata": {
    "deletable": true,
    "editable": true
   },
   "source": [
    "The dataset consists of ten features and one target variable.  More information is found at http://scikit-learn.org/stable/datasets/index.html#diabetes-dataset\n",
    "\n",
    "After importing the datasets, use the following code to add additional second-order polynomial and interaction variables to the features matrix.  You should have 65 variables and one target variable. Note that this code adds all combinations of the features with degree less than or equal to two; in practice one may introduce only a few based on domain knowledge or experimentation."
   ]
  },
  {
   "cell_type": "code",
   "execution_count": 2,
   "metadata": {
    "collapsed": true,
    "deletable": true,
    "editable": true
   },
   "outputs": [],
   "source": [
    "from sklearn.preprocessing import PolynomialFeatures\n",
    "X = PolynomialFeatures(2, include_bias=False).fit_transform(X)"
   ]
  },
  {
   "cell_type": "markdown",
   "metadata": {
    "deletable": true,
    "editable": true
   },
   "source": [
    "In this question, you will explore the application of Lasso and Ridge regression using sklearn package in Python. The following code will split the data into training and test set using [train_test_split](http://scikit-learn.org/stable/modules/generated/sklearn.model_selection.train_test_split.html) with **random state 20** and **test_size = 0.33**.  Note: lambda is called alpha in sklearn."
   ]
  },
  {
   "cell_type": "code",
   "execution_count": 3,
   "metadata": {
    "collapsed": true,
    "deletable": true,
    "editable": true
   },
   "outputs": [],
   "source": [
    "from sklearn.model_selection import train_test_split\n",
    "X_train, X_test, y_train, y_test = train_test_split(X,y,test_size = 0.33, random_state=20)"
   ]
  },
  {
   "cell_type": "markdown",
   "metadata": {
    "deletable": true,
    "editable": true
   },
   "source": [
    "1) Use sklearn.linear_model.Lasso and sklearn.linear_model.Ridge classes to do a [5-fold cross validation](http://scikit-learn.org/stable/auto_examples/exercises/plot_cv_diabetes.html#example-exercises-plot-cv-diabetes-py) using sklearn's [KFold](http://scikit-learn.org/stable/modules/generated/sklearn.model_selection.KFold.html#sklearn.model_selection.KFold). For the sweep of the regularization parameter, we will look at a grid of values ranging from $\\lambda = 10^{10}$ to $\\lambda = 10^{-2}$. In Python, you can consider this range of values as follows:\n",
    "\n",
    "      import numpy as np\n",
    "\n",
    "      alphas =  10**np.linspace(10,-2,100)*0.5\n",
    "\n",
    "  Report the best chosen $\\lambda$ based on cross validation. The cross validation should happen on your training data using  average MSE as the scoring metric. (5pts)\n",
    "\n",
    "2) Run ridge and lasso for all of the alphas specified above (on training data), and plot the coefficients learned for each of them - there should be one plot each for lasso and ridge, so a total of two plots; the plots for different features for a method should be on the same plot (e.g. Fig 6.6 of JW). What do you qualitatively observe when value of the regularization parameter is changed? (4pts)\n",
    "\n",
    "3) Run least squares regression, ridge, and lasso on the training data. For ridge and lasso, use only the best regularization parameter. Report the prediction error (MSE) on the test data for each. (3pts)\n",
    "\n",
    "4) Run lasso again with cross validation using [sklearn.linear_model.LassoCV](http://scikit-learn.org/stable/modules/generated/sklearn.linear_model.LassoCV.html). Set the cross validation parameters as follows:\n",
    "\n",
    "    LassoCV(alphas=None, cv=10, max_iter=10000)\n",
    "\n",
    "Report the best $\\lambda$ based on cross validation. Run lasso on the training data using the best $\\lambda$ and report the coefficeints for 65 variables. What do you observe from these coefficients? (3pts)\n",
    "\n",
    "## Answer"
   ]
  },
  {
   "cell_type": "markdown",
   "metadata": {},
   "source": [
    "## a)"
   ]
  },
  {
   "cell_type": "code",
   "execution_count": 4,
   "metadata": {
    "collapsed": false
   },
   "outputs": [
    {
     "data": {
      "image/png": "[encoded data removed]",
      "text/plain": [
       "<matplotlib.figure.Figure at 0x1130b3c18>"
      ]
     },
     "metadata": {},
     "output_type": "display_data"
    },
    {
     "name": "stdout",
     "output_type": "stream",
     "text": [
      "best lambda {'alpha': 0.008737642000038414}\n",
      "best score -2972.4628255\n"
     ]
    }
   ],
   "source": [
    "# Tutorial learned from http://scikit-learn.org/stable/auto_examples/exercises/plot_cv_diabetes.html\n",
    "\n",
    "#lasso\n",
    "import numpy as np\n",
    "from matplotlib import pyplot as plt\n",
    "%matplotlib inline\n",
    "from sklearn.linear_model import LassoCV\n",
    "from sklearn.linear_model import Lasso\n",
    "from sklearn.model_selection import KFold\n",
    "from sklearn.model_selection import GridSearchCV\n",
    "\n",
    "alphas = 10**np.linspace(10,-2,100)*0.5\n",
    "\n",
    "k_fold = KFold(5)\n",
    "lasso = Lasso()\n",
    "\n",
    "clf_lasso = GridSearchCV(lasso, [{'alpha': alphas}],scoring='neg_mean_squared_error',cv=k_fold, refit=False)\n",
    "clf_lasso.fit(X_train, y_train)\n",
    "\n",
    "scores = clf_lasso.cv_results_['mean_test_score']\n",
    "scores_std = clf_lasso.cv_results_['std_test_score']\n",
    "\n",
    "\n",
    "plt.figure().set_size_inches(8, 6)\n",
    "plt.semilogx(alphas, scores)\n",
    "\n",
    "scores_std = clf_lasso.cv_results_['std_test_score']\n",
    "plt.semilogx(alphas, scores)\n",
    "\n",
    "# plot error lines showing +/- std. errors of the scores\n",
    "std_error = scores_std / np.sqrt(5)\n",
    "\n",
    "plt.semilogx(alphas, scores + std_error, 'b--')\n",
    "plt.semilogx(alphas, scores - std_error, 'b--')\n",
    "\n",
    "plt.axhline(np.max(scores), linestyle='--', color='.5')\n",
    "plt.show()\n",
    "\n",
    "print ('best lambda',clf_lasso.best_params_)\n",
    "print ('best score', np.max(scores))"
   ]
  },
  {
   "cell_type": "code",
   "execution_count": 5,
   "metadata": {
    "collapsed": false
   },
   "outputs": [
    {
     "data": {
      "image/png": "[encoded data removed]",
      "text/plain": [
       "<matplotlib.figure.Figure at 0x114cb6eb8>"
      ]
     },
     "metadata": {},
     "output_type": "display_data"
    },
    {
     "name": "stdout",
     "output_type": "stream",
     "text": [
      "best lambda {'alpha': 0.0050000000000000001}\n",
      "best score -2988.32477283\n"
     ]
    }
   ],
   "source": [
    "# Tutorial learned from http://scikit-learn.org/stable/auto_examples/exercises/plot_cv_diabetes.html\n",
    "\n",
    "\n",
    "#ridge\n",
    "import numpy as np\n",
    "from matplotlib import pyplot as plt\n",
    "\n",
    "from sklearn.linear_model import RidgeCV\n",
    "from sklearn.linear_model import Ridge\n",
    "from sklearn.model_selection import KFold\n",
    "from sklearn.model_selection import GridSearchCV\n",
    "\n",
    "alphas = 10**np.linspace(10,-2,100)*0.5\n",
    "\n",
    "\n",
    "ridge = Ridge()\n",
    "\n",
    "k_fold = KFold(5)\n",
    "\n",
    "clf_ridge = GridSearchCV(ridge, [{'alpha': alphas}],scoring='neg_mean_squared_error',cv=k_fold, refit=False)\n",
    "clf_ridge.fit(X_train, y_train)\n",
    "\n",
    "scores = clf_ridge.cv_results_['mean_test_score']\n",
    "scores_std = clf_ridge.cv_results_['std_test_score']\n",
    "\n",
    "plt.figure().set_size_inches(8, 6)\n",
    "plt.semilogx(alphas, scores)\n",
    "\n",
    "scores_std = clf_ridge.cv_results_['std_test_score']\n",
    "plt.semilogx(alphas, scores)\n",
    "# plot error lines showing +/- std. errors of the scores\n",
    "std_error = scores_std / np.sqrt(5)\n",
    "\n",
    "plt.semilogx(alphas, scores + std_error, 'b--')\n",
    "plt.semilogx(alphas, scores - std_error, 'b--')\n",
    "\n",
    "plt.show()\n",
    "\n",
    "print ('best lambda',clf_ridge.best_params_)\n",
    "print ('best score', np.max(scores))"
   ]
  },
  {
   "cell_type": "markdown",
   "metadata": {},
   "source": [
    "## b)"
   ]
  },
  {
   "cell_type": "code",
   "execution_count": 6,
   "metadata": {
    "collapsed": false
   },
   "outputs": [
    {
     "data": {
      "image/png": "[encoded data removed]",
      "text/plain": [
       "<matplotlib.figure.Figure at 0x1162f39b0>"
      ]
     },
     "metadata": {},
     "output_type": "display_data"
    }
   ],
   "source": [
    "# Tutorial learned from http://scikit-learn.org/stable/auto_examples/linear_model/plot_ridge_path.html\n",
    "\n",
    "from sklearn import linear_model\n",
    "\n",
    "#%pylab inline\n",
    "\n",
    "#lasso\n",
    "alphas = 10**np.linspace(10,-2,100)*0.5\n",
    "\n",
    "coefs = []\n",
    "for a in alphas:\n",
    "    lasso = linear_model.Lasso(alpha=a)\n",
    "    lasso.fit(X_train, y_train)\n",
    "    coefs.append(lasso.coef_)\n",
    "\n",
    "ax = plt.gca()\n",
    "ax.plot(alphas, coefs)\n",
    "ax.set_xscale('log') \n",
    "plt.xlabel('alphas')\n",
    "plt.ylabel('coefficients')\n",
    "plt.title('Lasso coefficients as a function of the regularization')\n",
    "plt.axis('tight')\n",
    "plt.show()"
   ]
  },
  {
   "cell_type": "code",
   "execution_count": 7,
   "metadata": {
    "collapsed": false
   },
   "outputs": [
    {
     "data": {
      "image/png": "[encoded data removed]",
      "text/plain": [
       "<matplotlib.figure.Figure at 0x1163b1978>"
      ]
     },
     "metadata": {},
     "output_type": "display_data"
    }
   ],
   "source": [
    "# Tutorial learned from http://scikit-learn.org/stable/auto_examples/linear_model/plot_ridge_path.html\n",
    "\n",
    "#ridge\n",
    "alphas = 10**np.linspace(10,-2,100)*0.5\n",
    "\n",
    "coefs = []\n",
    "for a in alphas:\n",
    "    ridge = linear_model.Ridge(alpha=a, fit_intercept=False)\n",
    "    ridge.fit(X_train, y_train)\n",
    "    coefs.append(ridge.coef_)\n",
    "\n",
    "ax = plt.gca()\n",
    "ax.plot(alphas, coefs)\n",
    "ax.set_xscale('log')\n",
    "plt.xlabel('alphas')\n",
    "plt.ylabel('coefficients')\n",
    "plt.title('Ridge coefficients as a function of the regularization')\n",
    "plt.axis('tight')\n",
    "plt.show()"
   ]
  },
  {
   "cell_type": "markdown",
   "metadata": {},
   "source": [
    "The ridge coefficients are more scattered before they converge to 0, and it also takes longer for ridge coefficients to converge to 0. In general, the coefficients converges to zero as alpha increases."
   ]
  },
  {
   "cell_type": "markdown",
   "metadata": {},
   "source": [
    "## c)"
   ]
  },
  {
   "cell_type": "code",
   "execution_count": 8,
   "metadata": {
    "collapsed": false
   },
   "outputs": [
    {
     "name": "stdout",
     "output_type": "stream",
     "text": [
      "linear mse = 3501.51672513\n",
      "ridge mse = 2946.79477072\n",
      "lasso mse = 2961.43759012\n"
     ]
    },
    {
     "name": "stderr",
     "output_type": "stream",
     "text": [
      "/Library/Frameworks/Python.framework/Versions/3.6/lib/python3.6/site-packages/scipy/linalg/basic.py:1018: RuntimeWarning: internal gelsd driver lwork query error, required iwork dimension not returned. This is likely the result of LAPACK bug 0038, fixed in LAPACK 3.2.2 (released July 21, 2010). Falling back to 'gelss' driver.\n",
      "  warnings.warn(mesg, RuntimeWarning)\n"
     ]
    }
   ],
   "source": [
    "from sklearn.metrics import mean_squared_error\n",
    "\n",
    "#least squares regression\n",
    "reg = linear_model.LinearRegression()\n",
    "reg.fit (X_train,y_train)\n",
    "y_pred_linear = reg.predict(X_test)\n",
    "linear_mse=mean_squared_error(y_test, y_pred_linear)\n",
    "print ('linear mse =',linear_mse)\n",
    "\n",
    "#ridge\n",
    "\n",
    "ridge = linear_model.Ridge(alpha=clf_ridge.best_params_.get('alpha'))\n",
    "ridge.fit(X_train, y_train)\n",
    "y_pred_ridge = ridge.predict(X_test)\n",
    "ridge_mse=mean_squared_error(y_test, y_pred_ridge)\n",
    "print ('ridge mse =',ridge_mse)\n",
    "\n",
    "#lasso\n",
    "\n",
    "lasso = linear_model.Lasso(alpha=clf_lasso.best_params_.get('alpha'))\n",
    "lasso.fit(X_train, y_train)\n",
    "y_pred_lasso = lasso.predict(X_test)\n",
    "lasso_mse=mean_squared_error(y_test, y_pred_lasso)\n",
    "print ('lasso mse =',lasso_mse)"
   ]
  },
  {
   "cell_type": "markdown",
   "metadata": {},
   "source": [
    "## d)"
   ]
  },
  {
   "cell_type": "code",
   "execution_count": 9,
   "metadata": {
    "collapsed": false
   },
   "outputs": [
    {
     "name": "stdout",
     "output_type": "stream",
     "text": [
      "best lambda: 0.00642100472994\n",
      "Lasso mse : 2971.81006562\n",
      "coeff: [   -6.41033505  -197.57695949   546.9846375    348.23882294  -920.20114717\n",
      "   726.91383711    31.98462597   -14.80954929   817.15834216     5.94086981\n",
      "     0.          2527.81172745     0.             0.             0.            -0.\n",
      "     0.             0.          1554.85141873    -0.            -0.             0.\n",
      "   496.50450943     0.             0.             0.         -1188.61168992\n",
      "     0.             0.           664.16443725   724.09506593     0.             0.\n",
      "     0.             0.             0.           875.45007512   151.45850921\n",
      "    66.59384692     0.           374.64761997    -0.             0.            -0.\n",
      "     0.             0.             0.            -0.             0.             0.\n",
      "    -0.            -0.            -0.           546.68065867     0.\n",
      "   369.98354682    -0.             0.             0.            -0.            -0.\n",
      "   875.26885833    -0.             0.            54.6764378 ]\n"
     ]
    }
   ],
   "source": [
    "LassoCV=linear_model.LassoCV(alphas=None, cv=10, max_iter=10000)\n",
    "LassoCV.fit(X_train, y_train)\n",
    "y_pred_lasso = LassoCV.predict(X_test)\n",
    "print ('best lambda:',LassoCV.alpha_)\n",
    "\n",
    "lasso = linear_model.Lasso(alpha=LassoCV.alpha_)\n",
    "lasso.fit(X_train, y_train)\n",
    "y_pred_lasso = lasso.predict(X_test)\n",
    "lasso_mse=np.mean((y_pred_lasso-y_test)**2)\n",
    "\n",
    "print ('Lasso mse :', np.mean((y_pred_lasso-y_test)**2))\n",
    "print ('coeff:',lasso.coef_)"
   ]
  },
  {
   "cell_type": "markdown",
   "metadata": {},
   "source": [
    "The best lambda is 0.00642100472994, and it is close to the best lambda with KFold(5) in part 1.\n",
    "\n",
    "More than half of hte coefficients are very close to 0, and 24 coefficients are non-zero."
   ]
  },
  {
   "cell_type": "markdown",
   "metadata": {
    "deletable": true,
    "editable": true
   },
   "source": [
    "# Question 2  (5 pts)\n",
    "\n",
    "A regression model that includes \"interaction terms\" (i.e. quadratic terms of the form $x_ix_j$) as predictors in addition to the linear terms is clearly more general than a corresponding model that employs the same independent variables but only uses the linear terms. Outline two situations where the simpler (less general) model would be preferred to the more powerful model that includes interactive terms.\n",
    "\n",
    "## Answer\n",
    "\n"
   ]
  },
  {
   "cell_type": "markdown",
   "metadata": {},
   "source": [
    "Situation 1: Simpler model would be preferred when the quadratic model overfits the data.\n",
    "\n",
    "Situation 2: Simpler model would be preferred when the interactive terms are not important, and penalize the scoring metrics or MSE.\n"
   ]
  },
  {
   "cell_type": "markdown",
   "metadata": {
    "deletable": true,
    "editable": true
   },
   "source": [
    "# Question 3 - Bias-variance Trandeoff (2pts)\n",
    "How does the choice of K in the K-nearest neighbor classifier reflect a bias-variance tradeoff?\n",
    "\n",
    "## Answer"
   ]
  },
  {
   "cell_type": "markdown",
   "metadata": {},
   "source": [
    "In K-Nearest Neighbor, as K increases, the bias increases but the variance decreases. As K decreases, the bias decreases but the variance increases. "
   ]
  },
  {
   "cell_type": "markdown",
   "metadata": {
    "deletable": true,
    "editable": true
   },
   "source": [
    "# Question 4: Data Exploration and Regression Analysis (4+3+4+4=15pts)\n",
    "\n",
    "Consider the dataset provided (russett_full_v2.csv) about agricultural inequality, industrial development and political instability in different countries. More information about it can be found [here](https://www.rdocumentation.org/packages/plspm/versions/0.4.9/topics/russett) though the data itself is slightly different than that referenced in the link.\n",
    "\n",
    "a) (4 points) Generate box-plots of the \"rent\" (% of farmers that rent all their land) and \"demo_score\" ( derived measure of the level of a country's democracy from 1945 to 61 ) and identify the cutoff values for outliers. \n",
    "\n",
    "Generate 2 scatterplots of \"rent\" against \"demo_score\", and \"inst\" against \"demo_score\" with the identified outliers colored differently than non-outliers in each; comment on how inclusion of the outliers would affect a predictive model for the \"demo_score\" response.  \n",
    "\n",
    "b) (3 points) Let us try to fit an MLR, using ordinary least squares, to this dataset with \"demo_score\" as the dependent variable using only the predictors 'rent','inst', and 'ecks' . \n",
    "\n",
    "    from sklearn.model_selection import train_test_split\n",
    "    X_train, X_test, y_train, y_test = train_test_split(X,y,test_size = 0.25, random_state=10)   \n",
    "\n",
    "Report the RMSE obtained on both X_train and X_test. How much does this increase when you score your model on X_test?\n",
    "\n",
    "c) (4 points ) Try to predict ”demo_score” using a robust regression using Huber loss.  You can use the [sklearn package](  http://scikit-learn.org/stable/modules/generated/sklearn.linear_model.HuberRegressor.html).  Set regularization parameter alpha to 0.0 and all other parameters as default.\n",
    "Report RMSE obtained on both X_train and X_test.\n",
    "\n",
    "d) (4 points ) Compare and comment on the model fits obtained in (b) and (c) and plot the residual plots using all data for each model. How do outliers affect the relative performance of ordinary least squares regression, and robust regression with Huber loss in general? "
   ]
  },
  {
   "cell_type": "markdown",
   "metadata": {},
   "source": [
    "## a)"
   ]
  },
  {
   "cell_type": "code",
   "execution_count": 10,
   "metadata": {
    "collapsed": false
   },
   "outputs": [
    {
     "data": {
      "image/png": "[encoded data removed]",
      "text/plain": [
       "<matplotlib.figure.Figure at 0x11650df60>"
      ]
     },
     "metadata": {},
     "output_type": "display_data"
    },
    {
     "data": {
      "image/png": "[encoded data removed]",
      "text/plain": [
       "<matplotlib.figure.Figure at 0x116716358>"
      ]
     },
     "metadata": {},
     "output_type": "display_data"
    }
   ],
   "source": [
    "import pandas as pd\n",
    "import numpy as np\n",
    "import matplotlib.pyplot as plt\n",
    "%matplotlib inline\n",
    "\n",
    "df = pd.read_csv(\"./russett_full_v2.csv\")\n",
    "\n",
    "plt.boxplot([df['rent'], df['demo_score']])\n",
    "plt.title('rent against demo_score')\n",
    "\n",
    "plt.figure()\n",
    "rent_std = np.std(df['rent'])\n",
    "bound = rent_std + df['rent'].quantile(0.90)\n",
    "    \n",
    "df_normal = df.loc[np.abs(df['rent']) <bound]\n",
    "df_outlier = df.loc[np.abs(df['rent']) >=bound]\n",
    "\n",
    "plt.scatter(df_normal['rent'], df_normal['demo_score'], c='b')\n",
    "plt.scatter(df_outlier['rent'], df_outlier['demo_score'], c='r')\n",
    "plt.title('rent against demo_score')\n",
    "plt.show()"
   ]
  },
  {
   "cell_type": "code",
   "execution_count": 11,
   "metadata": {
    "collapsed": false
   },
   "outputs": [
    {
     "data": {
      "image/png": "[encoded data removed]",
      "text/plain": [
       "<matplotlib.figure.Figure at 0x117f2a588>"
      ]
     },
     "metadata": {},
     "output_type": "display_data"
    },
    {
     "data": {
      "image/png": "[encoded data removed]",
      "text/plain": [
       "<matplotlib.figure.Figure at 0x117e79ba8>"
      ]
     },
     "metadata": {},
     "output_type": "display_data"
    }
   ],
   "source": [
    "plt.boxplot([df['inst'], df['demo_score']])\n",
    "plt.title('inst against demo_score')\n",
    "\n",
    "inst_std = np.std(df['inst'])\n",
    "bound = inst_std - df['inst'].quantile(0.05)\n",
    "\n",
    "df_normal = df.loc[np.abs(df['inst']) >=bound]\n",
    "df_outlier = df.loc[np.abs(df['inst']) <bound]\n",
    "\n",
    "plt.figure()\n",
    "\n",
    "plt.scatter(df_normal['inst'], df_normal['demo_score'], s=10, c='b')\n",
    "plt.scatter(df_outlier['inst'], df_outlier['demo_score'], s=10, c='r')\n",
    "plt.title('inst against demo_score')\n",
    "plt.show()"
   ]
  },
  {
   "cell_type": "markdown",
   "metadata": {},
   "source": [
    "## b)"
   ]
  },
  {
   "cell_type": "code",
   "execution_count": 12,
   "metadata": {
    "collapsed": false
   },
   "outputs": [
    {
     "name": "stdout",
     "output_type": "stream",
     "text": [
      "Linear Regression RMSE on X_train:  25.55900184499996\n",
      "Linear Regression RMSE on X_test:  33.50125180607724\n"
     ]
    }
   ],
   "source": [
    "from sklearn.model_selection import train_test_split\n",
    "from sklearn import datasets, linear_model\n",
    "from sklearn.metrics import mean_squared_error\n",
    "from sklearn.linear_model import LinearRegression\n",
    "import math\n",
    "\n",
    "X = df[['rent','inst', 'ecks']]\n",
    "y = df['demo_score']\n",
    "\n",
    "X_train, X_test, y_train, y_test = train_test_split(X,y,test_size = 0.25, random_state=10)\n",
    "reg = LinearRegression()\n",
    "reg.fit(X_train, y_train)\n",
    "y_pred_train = reg.predict(X_train)\n",
    "y_pred_test = reg.predict(X_test)\n",
    "rmse_train = math.sqrt(mean_squared_error(y_train, y_pred_train))\n",
    "rmse_test = math.sqrt(mean_squared_error(y_test, y_pred_test))\n",
    "print('Linear Regression RMSE on X_train: ', rmse_train)\n",
    "print('Linear Regression RMSE on X_test: ', rmse_test)"
   ]
  },
  {
   "cell_type": "markdown",
   "metadata": {},
   "source": [
    "## c)"
   ]
  },
  {
   "cell_type": "code",
   "execution_count": 13,
   "metadata": {
    "collapsed": false
   },
   "outputs": [
    {
     "name": "stdout",
     "output_type": "stream",
     "text": [
      "Huber Regression RMSE on X_train:  26.43390552290458\n",
      "Huber Regression RMSE on X_test: 30.95435264033435\n"
     ]
    }
   ],
   "source": [
    "from sklearn.linear_model import HuberRegressor\n",
    "import math\n",
    "\n",
    "huber = HuberRegressor(alpha=0.0)\n",
    "huber.fit(X_train, y_train)\n",
    "y_pred_hub_train = huber.predict(X_train)\n",
    "y_pred_hub_test = huber.predict(X_test)\n",
    "rmse_train = math.sqrt(mean_squared_error(y_train, y_pred_hub_train))\n",
    "rmse_test = math.sqrt(mean_squared_error(y_test, y_pred_hub_test))\n",
    "\n",
    "print('Huber Regression RMSE on X_train: ', rmse_train)\n",
    "print('Huber Regression RMSE on X_test:', rmse_test)"
   ]
  },
  {
   "cell_type": "markdown",
   "metadata": {},
   "source": [
    "## d)"
   ]
  },
  {
   "cell_type": "code",
   "execution_count": 14,
   "metadata": {
    "collapsed": false
   },
   "outputs": [
    {
     "data": {
      "text/plain": [
       "<matplotlib.axes._subplots.AxesSubplot at 0x118462c50>"
      ]
     },
     "execution_count": 14,
     "metadata": {},
     "output_type": "execute_result"
    },
    {
     "data": {
      "image/png": "[encoded data removed]",
      "text/plain": [
       "<matplotlib.figure.Figure at 0x1183a1898>"
      ]
     },
     "metadata": {},
     "output_type": "display_data"
    }
   ],
   "source": [
    "#tutorial learned from https://seaborn.pydata.org/examples/residplot.html\n",
    "from seaborn import residplot\n",
    "residplot(x = y_test, y = y_pred_test,lowess=True)"
   ]
  },
  {
   "cell_type": "code",
   "execution_count": 15,
   "metadata": {
    "collapsed": false
   },
   "outputs": [
    {
     "data": {
      "text/plain": [
       "<matplotlib.axes._subplots.AxesSubplot at 0x1184956a0>"
      ]
     },
     "execution_count": 15,
     "metadata": {},
     "output_type": "execute_result"
    },
    {
     "data": {
      "image/png": "[encoded data removed]",
      "text/plain": [
       "<matplotlib.figure.Figure at 0x1184aa0b8>"
      ]
     },
     "metadata": {},
     "output_type": "display_data"
    }
   ],
   "source": [
    "residplot(x = y_test, y = y_pred_hub_test,lowess=True)"
   ]
  },
  {
   "cell_type": "markdown",
   "metadata": {
    "deletable": true,
    "editable": true
   },
   "source": [
    "# Question 5 - Sampling (4+4=8pts)\n",
    "\n",
    "1. NBC has come up with an extreme TV show, and each of its viewers either likes or hates it. (no middle ground here; we are in a “black and white age”). NBC wants to estimate what fraction p of its audience like the show by “randomly” calling n viewers and tallying their responses so as to estimate the true value of p to a fractional accuracy of within ±ε%, with a confidence of (1 − α) × 100%. For α = 0.10, ε = 0.03 (i.e. your answer will be $\\hat{p}$± 0.03), what is the minimum value of n needed if true value (i) p = 0.5, (ii) p=0.25? \n",
    "\n",
    "2. Suppose for a certain value of p and choice of ε, you calculate that you will need 1000 samples for α = 0.02. You now decide to obtain a more accurate answer by either (i) reducing α to 0.01, keeping the same ε or by (ii) reducing ε by a factor of 2 from the original value, and increasing α to 0.05. In each case how many samples would you need now?\n",
    "\n",
    "## Answer"
   ]
  },
  {
   "cell_type": "code",
   "execution_count": 16,
   "metadata": {
    "collapsed": false
   },
   "outputs": [
    {
     "name": "stdout",
     "output_type": "stream",
     "text": [
      "751.6736111111112\n",
      "563.7552083333334\n",
      "1226.1047357659932\n",
      "2830.4813129731615\n"
     ]
    }
   ],
   "source": [
    "# n = p(1-p) (za/2 / e ) ^ 2\n",
    "# http://www.math.armstrong.edu/statsonline/5/5.3.2.html\n",
    "\n",
    "def minimumN(epsilon, p, z):\n",
    "    return p*(1 - p) * (z/epsilon)**2\n",
    "z10 = 1.28\n",
    "z05 = 1.645\n",
    "z025 = 1.96\n",
    "z01 = 2.33\n",
    "z005 = 2.58\n",
    "\n",
    "\n",
    "N1 = 0.5 * 0.5 * (z05 / 0.03 ) ** 2\n",
    "N2 = 0.25 * 0.75 * (z05 / 0.03 ) ** 2\n",
    "myEps = 0.0368405\n",
    "\n",
    "N3 = 1000 * (z005 **2) / (z01**2)\n",
    "\n",
    "N4 = 1000 * (z025 **2) / (z01**2) * 4\n",
    "\n",
    "\n",
    "print (minimumN(.03, .5, z05))\n",
    "print (minimumN(.03, .25, z05))\n",
    "print (N3)\n",
    "print (N4)"
   ]
  },
  {
   "cell_type": "markdown",
   "metadata": {},
   "source": [
    "1) When p=0.5, n should be 752, when p=0.25, n should be 564"
   ]
  },
  {
   "cell_type": "markdown",
   "metadata": {},
   "source": [
    "2) (i) 1227 (ii) 2831"
   ]
  },
  {
   "cell_type": "markdown",
   "metadata": {
    "deletable": true,
    "editable": true
   },
   "source": [
    "# Question 6 - Principal Component Analysis (10 points)\n",
    "\n",
    "Import the diabetes dataset as in Q1 and add the interaction variables.\n",
    "You should have 65 variables and one target variable."
   ]
  },
  {
   "cell_type": "code",
   "execution_count": 17,
   "metadata": {
    "collapsed": true,
    "deletable": true,
    "editable": true
   },
   "outputs": [],
   "source": [
    "from sklearn import datasets\n",
    "diabetes = datasets.load_diabetes()\n",
    "X = diabetes.data\n",
    "y = diabetes.target\n",
    "\n",
    "from sklearn.preprocessing import PolynomialFeatures\n",
    "X = PolynomialFeatures(2, include_bias=False).fit_transform(X)"
   ]
  },
  {
   "cell_type": "markdown",
   "metadata": {
    "deletable": true,
    "editable": true
   },
   "source": [
    "Next, use [StandardScaler](http://scikit-learn.org/stable/modules/generated/sklearn.preprocessing.StandardScaler.html) to center and scale each feature as follows."
   ]
  },
  {
   "cell_type": "code",
   "execution_count": 18,
   "metadata": {
    "collapsed": true,
    "deletable": true,
    "editable": true
   },
   "outputs": [],
   "source": [
    "from sklearn.preprocessing import StandardScaler\n",
    "stdScaler = StandardScaler()\n",
    "X = stdScaler.fit_transform(X)"
   ]
  },
  {
   "cell_type": "markdown",
   "metadata": {
    "deletable": true,
    "editable": true
   },
   "source": [
    "(a) Perform PCA using the sklearn [PCA](http://scikit-learn.org/stable/modules/generated/sklearn.decomposition.PCA.html) package.  Create i) a scree plot depicting the proportion of variance and ii) a cumulative proportion of variance explained by the principal components of the data (X matrix).  Refer to Figure 10.4 of JW for an example.  You may use the output attribute *explained variance ratio*. (3pts)\n",
    "\n",
    "(b) How many principal components (N1, N2, N3) are required to explain cumulative variance of 30%, 60%, and 90%, respectively? (3pts)\n",
    "\n",
    "(c) Fit an ordinary least squares linear regression using N1, N2, and N3 number of principal components, respectively.  (This is called Principal Components Regression). Use entire dataset, e.g. 442 rows. Evaluate the models using mean squared error (MSE). (4pts)\n",
    "\n",
    "## Answer"
   ]
  },
  {
   "cell_type": "markdown",
   "metadata": {},
   "source": [
    "## a)"
   ]
  },
  {
   "cell_type": "code",
   "execution_count": 19,
   "metadata": {
    "collapsed": false
   },
   "outputs": [
    {
     "data": {
      "image/png": "[encoded data removed]",
      "text/plain": [
       "<matplotlib.figure.Figure at 0x1186cfa20>"
      ]
     },
     "metadata": {},
     "output_type": "display_data"
    },
    {
     "data": {
      "image/png": "[encoded data removed]",
      "text/plain": [
       "<matplotlib.figure.Figure at 0x1186cf940>"
      ]
     },
     "metadata": {},
     "output_type": "display_data"
    }
   ],
   "source": [
    "# scree plot learned from https://stats.stackexchange.com/questions/12819/how-to-draw-a-scree-plot-in-python\n",
    "\n",
    "def cumulative(arr):\n",
    "    foo = []\n",
    "    for x in range(0, len(arr)):\n",
    "        foo.append(arr[x])\n",
    "        for y in range (0, x):\n",
    "            foo[x] = foo[x] + arr[y]\n",
    "    return foo\n",
    "            \n",
    "\n",
    "numPC = 65\n",
    "\n",
    "\n",
    "from sklearn import datasets\n",
    "diabetes = datasets.load_diabetes()\n",
    "X = diabetes.data\n",
    "y = diabetes.target\n",
    "\n",
    "from sklearn.preprocessing import PolynomialFeatures\n",
    "X = PolynomialFeatures(2, include_bias=False).fit_transform(X)\n",
    "\n",
    "from sklearn.preprocessing import StandardScaler\n",
    "stdScaler = StandardScaler()\n",
    "X = stdScaler.fit_transform(X)\n",
    "\n",
    "from sklearn.decomposition import PCA\n",
    "\n",
    "pca = PCA(n_components= numPC)\n",
    "pca.fit(X)\n",
    "PCA(copy=True, iterated_power='auto', n_components=numPC, random_state=None,\n",
    "  svd_solver='auto', tol=0.0, whiten=False) \n",
    "\n",
    "import numpy as np\n",
    "import matplotlib\n",
    "import matplotlib.pyplot as plt\n",
    "\n",
    "#Make a random array and then make it positive-definite\n",
    "\n",
    "\n",
    "fig = plt.figure(figsize=(8,5))\n",
    "sing_vals = np.arange(numPC) + 1\n",
    "#\n",
    "plt.plot(sing_vals, pca.explained_variance_ratio_)\n",
    "plt.title('N3 PCA')\n",
    "plt.xlabel('Principal Component')\n",
    "plt.ylabel('Explained Variance Ratio')\n",
    "plt.show()\n",
    "\n",
    "plt.plot(sing_vals, cumulative(pca.explained_variance_ratio_))\n",
    "plt.title('N3 PCA')\n",
    "plt.xlabel('Principal Component')\n",
    "plt.ylabel('Cumulative Explained Variance')\n",
    "plt.show()"
   ]
  },
  {
   "cell_type": "markdown",
   "metadata": {},
   "source": [
    "## b)"
   ]
  },
  {
   "cell_type": "code",
   "execution_count": 20,
   "metadata": {
    "collapsed": false
   },
   "outputs": [
    {
     "name": "stdout",
     "output_type": "stream",
     "text": [
      "N1 = 3 for cumulative variance of 30%, N2 = 9 for cumulative variance of 60%, N3 = 27 for cumulative variance of 90%\n"
     ]
    }
   ],
   "source": [
    "def calculateN(percentage):\n",
    "    pca = PCA()\n",
    "    pca.fit(X)\n",
    "    cul = 0\n",
    "    i = 0\n",
    "    while cul < percentage:\n",
    "        i+=1\n",
    "        pca = PCA(n_components=i)\n",
    "        pca.fit(X)\n",
    "        cul = sum(pca.explained_variance_ratio_)\n",
    "    return i\n",
    "N1 = calculateN(0.3)\n",
    "N2 = calculateN(0.6)\n",
    "N3 = calculateN(0.9)\n",
    "print('N1 =', N1, 'for cumulative variance of 30%, N2 =',N2, 'for cumulative variance of 60%, N3 =', N3,'for cumulative variance of 90%')"
   ]
  },
  {
   "cell_type": "markdown",
   "metadata": {},
   "source": [
    "## c)"
   ]
  },
  {
   "cell_type": "code",
   "execution_count": 21,
   "metadata": {
    "collapsed": false
   },
   "outputs": [
    {
     "name": "stdout",
     "output_type": "stream",
     "text": [
      "mse for n1=3 is  5120.60554779 , mse for n2=9 is  3942.78675143 , mse for n3=27 is  2857.425949\n"
     ]
    }
   ],
   "source": [
    "from sklearn.metrics import mean_squared_error\n",
    "from sklearn.linear_model import LinearRegression\n",
    "\n",
    "pca = PCA(N1)\n",
    "X_reducedN1 = pca.fit_transform(X)\n",
    "pca = PCA(N2)\n",
    "X_reducedN2 = pca.fit_transform(X)\n",
    "pca = PCA(N3)\n",
    "X_reducedN3 = pca.fit_transform(X)\n",
    "\n",
    "\n",
    "regr = LinearRegression()\n",
    "\n",
    "regr.fit (X_reducedN1,y)\n",
    "y_predN1 = regr.predict(X_reducedN1)\n",
    "msen1 = mean_squared_error(y, y_predN1)\n",
    "\n",
    "regr.fit (X_reducedN2,y)\n",
    "y_predN2 = regr.predict(X_reducedN2)\n",
    "msen2 = mean_squared_error(y, y_predN2)\n",
    "\n",
    "regr.fit (X_reducedN3,y)\n",
    "y_predN3 = regr.predict(X_reducedN3)\n",
    "msen3 = mean_squared_error(y, y_predN3)\n",
    "\n",
    "print('mse for n1=3 is ', msen1, ', mse for n2=9 is ', msen2, ', mse for n3=27 is ', msen3)"
   ]
  }
 ],
 "metadata": {
  "kernelspec": {
   "display_name": "Python 3",
   "language": "python",
   "name": "python3"
  },
  "language_info": {
   "codemirror_mode": {
    "name": "ipython",
    "version": 3
   },
   "file_extension": ".py",
   "mimetype": "text/x-python",
   "name": "python",
   "nbconvert_exporter": "python",
   "pygments_lexer": "ipython3",
   "version": "3.6.1"
  }
 },
 "nbformat": 4,
 "nbformat_minor": 1
}
